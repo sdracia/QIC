{
 "cells": [
  {
   "cell_type": "code",
   "execution_count": 2,
   "metadata": {},
   "outputs": [],
   "source": [
    "from time import time\n",
    "from math import prod\n",
    "import numpy as np\n",
    "import matplotlib.pyplot as plt"
   ]
  },
  {
   "attachments": {},
   "cell_type": "markdown",
   "metadata": {},
   "source": [
    "# Density matrices and entanglement\n",
    "\n",
    "## Obtaining the reduced density matrix of a bipartite pure system\n",
    "\n",
    "Starting from a state of subsystem $A$ $|\\psi_A\\rangle$ and one of subsystem $B$ $|\\psi_B\\rangle$, compute:\n",
    "\n",
    "$$\n",
    "|\\psi\\rangle = |\\psi_A\\rangle \\otimes |\\psi_B\\rangle\n",
    "$$\n",
    "\n",
    "<details>\n",
    "  <summary>Solution part 1</summary>\n",
    "\n",
    "```python\n",
    "state = np.kron(s0, s1 )\n",
    "```\n",
    "</details>"
   ]
  },
  {
   "cell_type": "code",
   "execution_count": 3,
   "metadata": {},
   "outputs": [],
   "source": [
    "num_sites = 2\n",
    "local_dim0 = 2\n",
    "local_dim1 = 2\n",
    "\n",
    "s0 = [1, 0]\n",
    "s1 = [0, 1]\n",
    "\n",
    "state = ..."
   ]
  },
  {
   "cell_type": "code",
   "execution_count": 4,
   "metadata": {},
   "outputs": [],
   "source": [
    "state = np.kron(s0,s1)"
   ]
  },
  {
   "attachments": {},
   "cell_type": "markdown",
   "metadata": {},
   "source": [
    "Compute the density matrix:\n",
    "\n",
    "$$\n",
    "\\rho = |\\psi\\rangle\\langle\\psi|\n",
    "$$\n",
    "\n",
    "and afterwards compute the reduced density matrix of subsystem $A(B)$\n",
    "\n",
    "<details>\n",
    "  <summary>Solution part 2</summary>\n",
    "\n",
    "```python\n",
    "density_mat = np.outer(state, state.conj() )\n",
    "```\n",
    "</details>\n",
    "\n",
    "<details>\n",
    "  <summary>Solution part 3</summary>\n",
    "\n",
    "```python\n",
    "density_tens = density_mat.reshape([local_dim0, local_dim1, local_dim0, local_dim1])\n",
    "...\n",
    "if subsys_to_trace == 0:\n",
    "    idxs = (0, 2)\n",
    "else:\n",
    "    idxs = (1, 3)\n",
    "rho_A = np.trace(density_tens, axis1=idxs[0], axis2=idxs[1])\n",
    "```\n",
    "</details>"
   ]
  },
  {
   "cell_type": "code",
   "execution_count": 5,
   "metadata": {},
   "outputs": [
    {
     "name": "stdout",
     "output_type": "stream",
     "text": [
      "[[0 0 0 0]\n",
      " [0 1 0 0]\n",
      " [0 0 0 0]\n",
      " [0 0 0 0]]\n",
      "[[[[0 0]\n",
      "   [0 0]]\n",
      "\n",
      "  [[0 1]\n",
      "   [0 0]]]\n",
      "\n",
      "\n",
      " [[[0 0]\n",
      "   [0 0]]\n",
      "\n",
      "  [[0 0]\n",
      "   [0 0]]]]\n",
      "[[0 0]\n",
      " [0 1]]\n"
     ]
    }
   ],
   "source": [
    "# Compute the density matrix using the outer product |\\psi><\\psi|\n",
    "density_mat = np.outer(state, state.conj() )\n",
    "\n",
    "# Reshape the 2-sites density matrix into a 4-legs tensor\n",
    "#\n",
    "#                     d0 -o- d0\n",
    "# d0d1 -o- d0d1 ---->     o\n",
    "#                     d1 -o- d1\n",
    "#\n",
    "\n",
    "subsys_to_trace = 0\n",
    "\n",
    "print(density_mat)\n",
    "\n",
    "density_tens = density_mat.reshape([local_dim0, local_dim1, local_dim0, local_dim1])\n",
    "\n",
    "print(density_tens)\n",
    "\n",
    "if subsys_to_trace == 0:\n",
    "    idxs = (0, 2)\n",
    "else:\n",
    "    idxs = (1, 3)\n",
    "rho_A = np.trace(density_tens, axis1=idxs[0], axis2=idxs[1])\n",
    "\n",
    "# Trace away the subsystem you are interested in\n",
    "#   _____\n",
    "#   |   |\n",
    "#   |_o_| d0\n",
    "#     o\n",
    "# d1 -o- d1\n",
    "rho_A = np.trace(density_tens, axis1=idxs[0], axis2=idxs[1])\n",
    "\n",
    "print(rho_A)"
   ]
  },
  {
   "attachments": {},
   "cell_type": "markdown",
   "metadata": {},
   "source": [
    "## Computing the reduced density matrix without passing from the density matrix\n",
    "\n",
    "We want to optimize the procedure to compute the reduced density matrix. There is\n",
    "some additional computation that is not optimized at all.\n",
    "\n",
    "Using `np.tensordot`, compute the reduced density matrix of subsystem $A(B)$\n",
    "\n",
    "<details>\n",
    "  <summary>Solution part 4</summary>\n",
    "\n",
    "```python\n",
    "if subsys_to_trace == 0:\n",
    "    idxs = 0\n",
    "else:\n",
    "    idxs = 1\n",
    "\n",
    "state = state.reshape([local_dim0, local_dim1])\n",
    "rho_A = np.tensordot(state, state.conj(), ([idxs], [idxs]))\n",
    "```\n",
    "</details>"
   ]
  },
  {
   "cell_type": "code",
   "execution_count": 10,
   "metadata": {},
   "outputs": [
    {
     "name": "stdout",
     "output_type": "stream",
     "text": [
      "[[0 0]\n",
      " [0 1]]\n"
     ]
    }
   ],
   "source": [
    "# Let's optimize a bit. We do not need the entire density matrix if we are interested only in reduced density matrices\n",
    "\n",
    "if subsys_to_trace == 0:\n",
    "    idxs = 0\n",
    "else:\n",
    "    idxs = 1\n",
    "\n",
    "state = state.reshape([local_dim0, local_dim1])\n",
    "rho_A = np.tensordot(state, state.conj(), ([idxs], [idxs]))\n",
    "\n",
    "print(rho_A)"
   ]
  },
  {
   "attachments": {},
   "cell_type": "markdown",
   "metadata": {},
   "source": [
    "Let's see if the optimization is real!\n",
    "\n",
    "- Is the optimization the same is `local_dim0` is constant while `local_dim1` increases?\n",
    "- Is the optimization the same is `local_dim1` is constant while `local_dim0` increases?\n",
    "\n",
    "You might want to go with higher `local_dim` for these two tests, such that the product of the two is comparable\n",
    "with the current numbers."
   ]
  },
  {
   "cell_type": "code",
   "execution_count": null,
   "metadata": {},
   "outputs": [
    {
     "name": "stdout",
     "output_type": "stream",
     "text": [
      "10 10\n",
      "23 23\n",
      "56 56\n",
      "133 133\n"
     ]
    },
    {
     "ename": "",
     "evalue": "",
     "output_type": "error",
     "traceback": [
      "\u001b[1;31mThe Kernel crashed while executing code in the current cell or a previous cell. \n",
      "\u001b[1;31mPlease review the code in the cell(s) to identify a possible cause of the failure. \n",
      "\u001b[1;31mClick <a href='https://aka.ms/vscodeJupyterKernelCrash'>here</a> for more info. \n",
      "\u001b[1;31mView Jupyter <a href='command:jupyter.viewOutput'>log</a> for further details."
     ]
    }
   ],
   "source": [
    "# Is this really optimized?\n",
    "\n",
    "3 = np.logspace(1,2.5,5, dtype=int)\n",
    "local_dim1 = np.logspace(1,2.5,5,dtype=int)\n",
    "timings = np.zeros((len(local_dim0), 2))\n",
    "\n",
    "ii = 0\n",
    "for d0, d1 in zip(local_dim0, local_dim1):\n",
    "    print(d0,d1)\n",
    "    # Put in first state\n",
    "    s0 = np.zeros(d0)\n",
    "    s0[0] = 1\n",
    "    # Put in last state\n",
    "    s1 = np.zeros(d1)\n",
    "    s1[-1] = 1\n",
    "    state = np.kron(s0, s1)\n",
    "\n",
    "    tic = time()\n",
    "    density_mat = np.outer(state, state.conj() )\n",
    "    density_tens = density_mat.reshape([d0, d1, d0, d1])\n",
    "    rho_A = np.trace(density_tens, axis1=1, axis2=3)\n",
    "    timings[ii, 0] = time() - tic\n",
    "\n",
    "    tic = time()\n",
    "    state = state.reshape([d0, d1])\n",
    "    rho_A = np.tensordot(state, state.conj(), ([1], [1]))\n",
    "    timings[ii, 1] = time() - tic\n",
    "    ii += 1\n"
   ]
  },
  {
   "cell_type": "code",
   "execution_count": 1,
   "metadata": {},
   "outputs": [
    {
     "ename": "NameError",
     "evalue": "name 'plt' is not defined",
     "output_type": "error",
     "traceback": [
      "\u001b[0;31m---------------------------------------------------------------------------\u001b[0m",
      "\u001b[0;31mNameError\u001b[0m                                 Traceback (most recent call last)",
      "Cell \u001b[0;32mIn[1], line 1\u001b[0m\n\u001b[0;32m----> 1\u001b[0m fig, ax \u001b[38;5;241m=\u001b[39m plt\u001b[38;5;241m.\u001b[39msubplots(\u001b[38;5;241m2\u001b[39m, \u001b[38;5;241m1\u001b[39m, figsize\u001b[38;5;241m=\u001b[39m(\u001b[38;5;241m6\u001b[39m, \u001b[38;5;241m6\u001b[39m), sharex\u001b[38;5;241m=\u001b[39m\u001b[38;5;28;01mTrue\u001b[39;00m)\n\u001b[1;32m      3\u001b[0m ax[\u001b[38;5;241m0\u001b[39m]\u001b[38;5;241m.\u001b[39mplot(local_dim1, timings[:, \u001b[38;5;241m0\u001b[39m], \u001b[38;5;124m\"\u001b[39m\u001b[38;5;124mo--\u001b[39m\u001b[38;5;124m\"\u001b[39m, label\u001b[38;5;241m=\u001b[39m\u001b[38;5;124m\"\u001b[39m\u001b[38;5;124mNormal\u001b[39m\u001b[38;5;124m\"\u001b[39m, color\u001b[38;5;241m=\u001b[39m\u001b[38;5;124m\"\u001b[39m\u001b[38;5;124mforestgreen\u001b[39m\u001b[38;5;124m\"\u001b[39m)\n\u001b[1;32m      4\u001b[0m ax[\u001b[38;5;241m0\u001b[39m]\u001b[38;5;241m.\u001b[39mplot(local_dim1, timings[:, \u001b[38;5;241m1\u001b[39m], \u001b[38;5;124m\"\u001b[39m\u001b[38;5;124ms--\u001b[39m\u001b[38;5;124m\"\u001b[39m, label\u001b[38;5;241m=\u001b[39m\u001b[38;5;124m\"\u001b[39m\u001b[38;5;124mTensordot\u001b[39m\u001b[38;5;124m\"\u001b[39m, color\u001b[38;5;241m=\u001b[39m\u001b[38;5;124m\"\u001b[39m\u001b[38;5;124mfirebrick\u001b[39m\u001b[38;5;124m\"\u001b[39m)\n",
      "\u001b[0;31mNameError\u001b[0m: name 'plt' is not defined"
     ]
    }
   ],
   "source": [
    "fig, ax = plt.subplots(2, 1, figsize=(6, 6), sharex=True)\n",
    "\n",
    "ax[0].plot(local_dim1, timings[:, 0], \"o--\", label=\"Normal\", color=\"forestgreen\")\n",
    "ax[0].plot(local_dim1, timings[:, 1], \"s--\", label=\"Tensordot\", color=\"firebrick\")\n",
    "ax[0].legend(fontsize=14)\n",
    "#ax[0].set_yscale(\"log\")\n",
    "ax[0].set_ylabel(\"Computational time [s]\", fontsize=14)\n",
    "\n",
    "ax[1].plot(local_dim1, timings[:, 0]/timings[:, 1], \"o--\", color=\"forestgreen\")\n",
    "ax[1].set_xlabel(\"Local dimension to trace away\", fontsize=14)\n",
    "ax[1].set_ylabel(\"Tensordot speedup\", fontsize=14)\n",
    "ax[0].set(xscale=\"log\", yscale=\"log\")\n",
    "ax[1].set(xscale=\"log\", yscale=\"log\")\n",
    "\n",
    "plt.show()"
   ]
  },
  {
   "attachments": {},
   "cell_type": "markdown",
   "metadata": {},
   "source": [
    "## The general function for the reduced density matrix\n",
    "\n",
    "Complete the function\n",
    "<details>\n",
    "  <summary>Solution part 5</summary>\n",
    "\n",
    "```python\n",
    "psi.reshape(*[loc_dim for _ in range(int(n_sites))])\n",
    "```\n",
    "</details>"
   ]
  },
  {
   "cell_type": "code",
   "execution_count": 6,
   "metadata": {},
   "outputs": [],
   "source": [
    "def get_reduced_density_matrix(psi, loc_dim, n_sites, keep_indices,\n",
    "    print_rho=False):\n",
    "    \"\"\"\n",
    "    Parameters\n",
    "    ----------\n",
    "    psi : ndarray\n",
    "        state of the Quantum Many-Body system\n",
    "    loc_dim : int\n",
    "        local dimension of each single site of the QMB system\n",
    "    n_sites : int\n",
    "        total number of sites in the QMB system\n",
    "    keep_indices (list of ints):\n",
    "        Indices of the lattice sites to keep.\n",
    "    print_rho : bool, optional\n",
    "        If True, it prints the obtained reduced density matrix], by default False\n",
    "\n",
    "    Returns\n",
    "    -------\n",
    "    ndarray\n",
    "        Reduced density matrix\n",
    "    \"\"\"\n",
    "    if not isinstance(psi, np.ndarray):\n",
    "        raise TypeError(f'density_mat should be an ndarray, not a {type(psi)}')\n",
    "\n",
    "    if not np.isscalar(loc_dim) and not isinstance(loc_dim, int):\n",
    "        raise TypeError(f'loc_dim must be an SCALAR & INTEGER, not a {type(loc_dim)}')\n",
    "\n",
    "    if not np.isscalar(n_sites) and not isinstance(n_sites, int):\n",
    "        raise TypeError(f'n_sites must be an SCALAR & INTEGER, not a {type(n_sites)}')\n",
    "\n",
    "    # Ensure psi is reshaped into a tensor with one leg per lattice site\n",
    "    psi_tensor = psi.reshape(*[loc_dim for _ in range(int(n_sites))])\n",
    "    # Determine the environmental indices\n",
    "    all_indices = list(range(n_sites))\n",
    "    env_indices = [i for i in all_indices if i not in keep_indices]\n",
    "    new_order = keep_indices + env_indices\n",
    "    # Rearrange the tensor to group subsystem and environment indices\n",
    "    psi_tensor = np.transpose(psi_tensor, axes=new_order)\n",
    "    print(f\"Reordered psi_tensor shape: {psi_tensor.shape}\")\n",
    "    # Determine the dimensions of the subsystem and environment for the bipartition\n",
    "    subsystem_dim = np.prod([loc_dim for i in keep_indices])\n",
    "    env_dim = np.prod([loc_dim for i in env_indices])\n",
    "    # Reshape the reordered tensor to separate subsystem from environment\n",
    "    psi_partitioned = psi_tensor.reshape((subsystem_dim, env_dim))\n",
    "    # Compute the reduced density matrix by tracing out the env-indices\n",
    "    RDM = np.tensordot(psi_partitioned, np.conjugate(psi_partitioned), axes=([1], [1]))\n",
    "    # Reshape rho to ensure it is a square matrix corresponding to the subsystem\n",
    "    RDM = RDM.reshape((subsystem_dim, subsystem_dim))\n",
    "\n",
    "    # PRINT RHO\n",
    "    if print_rho:\n",
    "        print('----------------------------------------------------')\n",
    "        print(f'DENSITY MATRIX TRACING SITES ({str(env_indices)})')\n",
    "        print('----------------------------------------------------')\n",
    "        print(RDM)\n",
    "\n",
    "    return RDM"
   ]
  },
  {
   "cell_type": "markdown",
   "metadata": {},
   "source": []
  }
 ],
 "metadata": {
  "kernelspec": {
   "display_name": "base",
   "language": "python",
   "name": "python3"
  },
  "language_info": {
   "codemirror_mode": {
    "name": "ipython",
    "version": 3
   },
   "file_extension": ".py",
   "mimetype": "text/x-python",
   "name": "python",
   "nbconvert_exporter": "python",
   "pygments_lexer": "ipython3",
   "version": "3.11.5"
  },
  "orig_nbformat": 4
 },
 "nbformat": 4,
 "nbformat_minor": 2
}

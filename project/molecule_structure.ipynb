{
 "cells": [
  {
   "cell_type": "code",
   "execution_count": 2,
   "metadata": {},
   "outputs": [],
   "source": [
    "import numpy as np\n",
    "import matplotlib.pyplot as plt\n",
    "from to_delete import CaOH, CaH, mu_N, gI\n",
    "from scipy.constants import h, k\n",
    "%matplotlib inline"
   ]
  },
  {
   "cell_type": "code",
   "execution_count": 3,
   "metadata": {},
   "outputs": [
    {
     "name": "stdout",
     "output_type": "stream",
     "text": [
      "-1.35 8.27 0\n",
      "-1.35 8.26 1\n",
      "-1.35 8.26 2\n",
      "-1.34 8.26 3\n",
      "-1.34 8.26 4\n",
      "-1.34 8.25 5\n",
      "-1.34 8.25 6\n",
      "-1.34 8.24 7\n",
      "-1.33 8.24 8\n",
      "-1.33 8.23 9\n",
      "-1.33 8.22 10\n",
      "-1.32 8.21 11\n",
      "-1.32 8.2 12\n",
      "-1.31 8.19 13\n",
      "-1.31 8.18 14\n",
      "-1.36 8.52 0\n",
      "-1.36 8.52 1\n",
      "-1.36 8.52 2\n",
      "-1.36 8.52 3\n",
      "-1.36 8.52 4\n",
      "-1.36 8.52 5\n",
      "-1.36 8.52 6\n",
      "-1.36 8.52 7\n",
      "-1.36 8.52 8\n",
      "-1.36 8.52 9\n",
      "-1.36 8.52 10\n",
      "-1.36 8.52 11\n",
      "-1.36 8.52 12\n",
      "-1.36 8.52 13\n",
      "-1.36 8.52 14\n"
     ]
    }
   ],
   "source": [
    "gj_list: list[float] = [-1.35, -1.35, -1.35, -1.34, -1.34, -1.34, -1.34, -1.34, -1.33, -1.33, -1.33, -1.32, -1.32, -1.31, -1.31]\n",
    "\n",
    "cij_list: list[float] = [8.27, 8.26, 8.26, 8.26, 8.26, 8.25, 8.25, 8.24, 8.24, 8.23, 8.22, 8.21, 8.20, 8.19, 8.18]\n",
    "\n",
    "\n",
    "cah = CaH.create_molecule_data(b_field_gauss=6.5, j_max=14, gj_list = gj_list, cij_list = cij_list)\n",
    "cah = CaH.create_molecule_data(b_field_gauss=6.5, j_max=14)"
   ]
  }
 ],
 "metadata": {
  "kernelspec": {
   "display_name": "base",
   "language": "python",
   "name": "python3"
  },
  "language_info": {
   "codemirror_mode": {
    "name": "ipython",
    "version": 3
   },
   "file_extension": ".py",
   "mimetype": "text/x-python",
   "name": "python",
   "nbconvert_exporter": "python",
   "pygments_lexer": "ipython3",
   "version": "3.11.5"
  }
 },
 "nbformat": 4,
 "nbformat_minor": 2
}
